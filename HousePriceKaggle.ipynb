{
 "cells": [
  {
   "cell_type": "markdown",
   "id": "330ee3c9",
   "metadata": {},
   "source": [
    "#### Importing libraries"
   ]
  },
  {
   "cell_type": "code",
   "execution_count": null,
   "id": "c761c16c",
   "metadata": {},
   "outputs": [],
   "source": [
    "import pandas as pd\n",
    "from matplotlib import pyplot as plt\n",
    "import seaborn as sns\n",
    "import numpy as np\n",
    "from warnings import filterwarnings\n",
    "filterwarnings('ignore')\n",
    "import missingno as msno\n",
    "import dateparser\n",
    "\n",
    "from scipy import stats\n",
    "from scipy.stats import norm, skew"
   ]
  },
  {
   "cell_type": "markdown",
   "id": "b10706c6",
   "metadata": {},
   "source": [
    "#### Reading data"
   ]
  },
  {
   "cell_type": "code",
   "execution_count": null,
   "id": "e24c5b33",
   "metadata": {},
   "outputs": [],
   "source": [
    "train = pd.read_csv(\"binaaz_train.csv\")\n",
    "test = pd.read_csv(\"binaaz_test.csv\")\n",
    "attractions = pd.read_excel('baku_coordinates.xlsx')\n",
    "train.head()"
   ]
  },
  {
   "cell_type": "code",
   "execution_count": null,
   "id": "9940f382",
   "metadata": {},
   "outputs": [],
   "source": [
    "print(train.shape)\n",
    "print(test.shape)"
   ]
  },
  {
   "cell_type": "code",
   "execution_count": null,
   "id": "0553a1cc",
   "metadata": {},
   "outputs": [],
   "source": [
    "train.columns"
   ]
  },
  {
   "cell_type": "code",
   "execution_count": null,
   "id": "c0f2e222",
   "metadata": {},
   "outputs": [],
   "source": [
    "# popular =  list(zip(attractions.Latitude, attractions.Longitude))\n",
    "# popular"
   ]
  },
  {
   "cell_type": "code",
   "execution_count": null,
   "id": "da1a3a17",
   "metadata": {},
   "outputs": [],
   "source": [
    "# points = pd.DataFrame()\n",
    "# points['points'] = list(zip(train.latitude, train.longitude))"
   ]
  },
  {
   "cell_type": "code",
   "execution_count": null,
   "id": "40a3266f",
   "metadata": {},
   "outputs": [],
   "source": [
    "# test_points = pd.DataFrame()\n",
    "# test_points['points'] = list(zip(test.latitude, test.longitude))"
   ]
  },
  {
   "cell_type": "code",
   "execution_count": null,
   "id": "e19f371f",
   "metadata": {
    "scrolled": true
   },
   "outputs": [],
   "source": [
    "# from geopy.distance import great_circle\n",
    "# from tqdm import tqdm \n",
    "\n",
    "# for key,value in tqdm(zip(attractions['Title'],popular)):\n",
    "#     train[key] = points['points'].apply(lambda x: great_circle(value, x).km)\n",
    "    \n",
    "# for key,value in tqdm(zip(attractions['Title'],popular)):\n",
    "#     test[key] = test_points['points'].apply(lambda x: great_circle(value, x).km)    \n"
   ]
  },
  {
   "cell_type": "code",
   "execution_count": null,
   "id": "17be0777",
   "metadata": {
    "scrolled": true
   },
   "outputs": [],
   "source": [
    "test.info(verbose = True)"
   ]
  },
  {
   "cell_type": "markdown",
   "id": "9e3de4e8",
   "metadata": {},
   "source": [
    "### Feature Extraction"
   ]
  },
  {
   "cell_type": "code",
   "execution_count": null,
   "id": "409627fe",
   "metadata": {},
   "outputs": [],
   "source": [
    "def feature_extraction(df):   \n",
    "    # null values\n",
    "    df['Kupça'] = df['Kupça'].fillna(df['Kupça'].mode()[0], axis=0)\n",
    "    df['description'] = df['description'].fillna(method='bfill', axis=0).fillna('empty description')\n",
    "\n",
    "\n",
    "    df['kupca'] = pd.get_dummies(df['Kupça'], drop_first=True)\n",
    "    df['mort'] = pd.get_dummies(df['İpoteka'], drop_first=True)\n",
    "    df['poster_type'] = pd.get_dummies(df['poster_type'], drop_first=True)\n",
    "    df['area'] = df['Sahə'].str.split().str[0].astype(float)\n",
    "    df['rel_floor'] = df['Mərtəbə'].apply(lambda x: int(x.split('/')[0])/int(x.split('/')[1]))\n",
    "    df['floor'] = df['Mərtəbə'].str.split('/').str[0].astype(float)\n",
    "    df['AreaPerRooms'] = df['area']/df['Otaq sayı']\n",
    "    \n",
    "    df['kristalAbseron'] = df['description'].apply(lambda x: any([w in str(x).lower() for w in [\"Kristal Abseron\",'Kristal Abşeron',\"Kistal Abşeron\"]]))\n",
    "    df['nearHospital'] = df['description'].apply(lambda x: any([w in str(x).lower() for w in ['xestexana','klinika','klinka', 'xəstəxana', 'balnisiya', 'dogum evi', 'doğum evi']]))\n",
    "    df['university'] = df['description'].apply(lambda x: any([w in str(x).lower() for w in ['universitet','unverstit', 'unversitet']]))\n",
    "    \n",
    "    df['urg'] = df['description'].apply(lambda x: any([w in str(x).lower() for w in ['tecili', 'təcili', 'tacili', 'tcili', 'təcılı','elimyandi', 'əlimyandı']]))\n",
    "    df['nearHospital'] = df['description'].apply(lambda x: any([w in str(x).lower() for w in ['xestexana','klinika','klinka', 'xəstəxana', 'balnisiya', 'dogum evi', 'doğum evi']]))\n",
    "    df['urg'] = df['description'].apply(lambda x: any([w in str(x).lower() for w \n",
    "                                                   in ['tecili', 'təcili', 'tacili', 'tcili', 'təcılı','elimyandi', 'əlimyandı']]))\n",
    "    df['deniz'] = df['description'].apply(lambda x: any([w in str(x).lower() for w in ['deniz','dəniz']]))\n",
    "    df['repaired'] = df['description'].apply(lambda x: any([w in str(x).lower() for w in ['temirli','təmirli','temirri']]))\n",
    "    df['unrepaired'] = df['description'].apply(lambda x: any([w in str(x).lower() for w in ['temirsiz','təmirsiz','temırız']]))\n",
    "    df['designed'] = df['description'].apply(lambda x: any([w in str(x).lower() for w in ['dizayner','dizayn','dizayin','dızayın', 'dizayın']]))\n",
    "    df['nearMetro'] = df['description'].apply(lambda x: any([w in str(x).lower() for w in ['metro']]))\n",
    "    df['nearGarden'] = df['description'].apply(lambda x: any([w in str(x).lower() for w in ['bagca','baxça', 'bağça','baxca']]))\n",
    "    df['podMayak'] = df['description'].apply(lambda x: any([w in str(x).lower() for w in ['pod mayak', 'padmayak','podmoyak','padmoyak','podmayok','pad mayak','pad mayok']]))\n",
    "    df['roomy'] = df['description'].apply(lambda x: any([w in str(x).lower() for w in ['genis','geniş','qenis']]))\n",
    "    df['perfect'] = df['description'].apply(lambda x: any([w in str(x).lower() for w in ['ela','əla']]))\n",
    "    df['communal'] = df['description'].apply(lambda x: any([w in str(x).lower() for w in ['qaz','su','isig','isiq','işiq','işıq','işığ']]))\n",
    "    df['notReady'] = df.description.map(lambda x:  any([w in str(x).lower() for w in [\"tehvil verilecek\", \"təhvil veriləcək\", \"təhfil veriləcək\", \"təhvil veriləcəy\", \"hazır deyil\", \"hazır olacaq\", \"hazir olacaq\"]]))\n",
    "    df['nearSchool'] = df['description'].apply(lambda x: any([w in str(x).lower() for w in ['mekteb','məktəb','məktəp','lisey', 'litsey', 'liçsey']]))\n",
    "    df['nearShopping'] = df['description'].apply(lambda x: any([w in str(x).lower() for w in ['market','magaza','mağaza','dukan','dükan']]))\n",
    "    df['kristalAbseron'] = df['description'].apply(lambda x: any([w in str(x).lower() for w in [\"Kristal Abseron\",'Kristal Abşeron',\"Kistal Abşeron\"]]))\n",
    "    df['hasContact'] = df['description'].apply(lambda x: any([w in str(x).lower() for w in ['elaqe','əlaqə','elaqə','nörmə','nomre','nömre']]))\n",
    "    df['nearHospital'] = df['description'].apply(lambda x: any([w in str(x).lower() for w in ['xestexana','klinika','klinka', 'xəstəxana', 'balnisiya', 'dogum evi', 'doğum evi']]))\n",
    "    df['university'] = df['description'].apply(lambda x: any([w in str(x).lower() for w in ['universitet','unverstit', 'unversitet']]))\n",
    "    df['funcenter'] = df['description'].apply(lambda x: any([w in str(x).lower() for w in ['eylence','əyləncə']]))\n",
    "    df['liveable'] = df['description'].apply(lambda x: any([w in str(x).lower() for w in ['yaşayış', 'yasayis', 'yaşayiş']]))\n",
    "    df['lift'] = df['description'].apply(lambda x: any([w in str(x).lower() for w in ['lift','lifd']]))\n",
    "    df['fastLift'] = df['description'].apply(lambda x: any([w in str(x).lower() for w in ['suretli lift',' suretli lifd','sürətli lift']]))\n",
    "    df['garage'] = df['description'].apply(lambda x: any([w in str(x).lower() for w in ['qaraj','garaj']]))\n",
    "    df['supermarket'] = df['description'].apply(lambda x: any([w in str(x).lower() for w in ['araz','spar','bravo','bazarstore', 'bazar stor']]))\n",
    "    df['furniture'] = df['description'].apply(lambda x: any([w in str(x).lower() for w in ['mebel', 'əşya', 'esya','avadanlig','avadanliq','avadanlıq', 'avadanlığ']]))\n",
    "    df['jacuzzi'] = df['description'].apply(lambda x: any([w in str(x).lower() for w in ['jakuzzi','jacuzzi','modern hamam','super hamam']]))\n",
    "    df['tax'] = df['description'].apply(lambda x: any([w in str(x).lower() for w in ['1%']]))\n",
    "    df['floor'] = df['description'].apply(lambda x: any([w in str(x).lower() for w in ['parket', 'isti döşəmə']]))\n",
    "    df['heatSystem'] = df['description'].apply(lambda x: any([w in str(x).lower() for w in ['kombi','istiliy sistem','istilik sistem']]))\n",
    "    df['security'] = df['description'].apply(lambda x: any([w in str(x).lower() for w in ['tehlukesiz','təhlükəsiz', 'təhlükesiz']]))\n",
    "    df['newlyBuilt'] = df['description'].apply(lambda x: any([w in str(x).lower() for w in ['yeni tikili', 'teze tikili']]))\n",
    "    df['newlyReaired'] = df['description'].apply(lambda x: any([w in str(x).lower() for w in ['yeni temir', 'yeni təmir', 'təzə temir', 'teze temir', 'yenicə təmir', 'yenice temir']]))\n",
    "    \n",
    "    \n",
    "    return df"
   ]
  },
  {
   "cell_type": "code",
   "execution_count": null,
   "id": "dbf16aba",
   "metadata": {},
   "outputs": [],
   "source": [
    "train['floor'] = train['Mərtəbə'].str.split('/').str[0].astype(float)\n",
    "test['floor'] = test['Mərtəbə'].str.split('/').str[0].astype(float)"
   ]
  },
  {
   "cell_type": "code",
   "execution_count": null,
   "id": "5cdfd8e3",
   "metadata": {},
   "outputs": [],
   "source": [
    "train = feature_extraction(train)\n",
    "test = feature_extraction(test)"
   ]
  },
  {
   "cell_type": "markdown",
   "id": "ee4e2f71",
   "metadata": {},
   "source": [
    "### Outliers"
   ]
  },
  {
   "cell_type": "code",
   "execution_count": null,
   "id": "bb5a360a",
   "metadata": {
    "scrolled": true
   },
   "outputs": [],
   "source": [
    "train.describe()"
   ]
  },
  {
   "cell_type": "code",
   "execution_count": null,
   "id": "9aa4fd8b",
   "metadata": {
    "scrolled": true
   },
   "outputs": [],
   "source": [
    "outlier = ['price','floor','Otaq sayı','latitude','area','AreaPerRooms']\n",
    "\n",
    "for i in outlier:\n",
    "    sns.boxplot(train[i])\n",
    "    plt.show()"
   ]
  },
  {
   "cell_type": "code",
   "execution_count": null,
   "id": "6086d1bc",
   "metadata": {},
   "outputs": [],
   "source": [
    "def remove_outliers(df):\n",
    "    df = df[(df['area']>10)&(df['area']<1000)]\n",
    "    df = df[df['Otaq sayı']<18]\n",
    "    df = df[df['floor']<26]\n",
    "    df = df[(df['price']>15000)&(df['price']<1000000)]\n",
    "    df = df[(df['price']/df['area']>200)&(df['price']/df['area']<4000)]\n",
    "    df = df[(df['AreaPerRooms']>12)&(df['AreaPerRooms']<95)]\n",
    "    df = df[df['latitude']<43.5]\n",
    "    \n",
    "    return df"
   ]
  },
  {
   "cell_type": "code",
   "execution_count": null,
   "id": "6b4cffe2",
   "metadata": {},
   "outputs": [],
   "source": [
    "train = remove_outliers(train)"
   ]
  },
  {
   "cell_type": "code",
   "execution_count": null,
   "id": "b7daf71f",
   "metadata": {
    "scrolled": true
   },
   "outputs": [],
   "source": [
    "for i in outlier:\n",
    "    sns.boxplot(train[i])\n",
    "    plt.show()"
   ]
  },
  {
   "cell_type": "code",
   "execution_count": null,
   "id": "64c8e131",
   "metadata": {
    "scrolled": true
   },
   "outputs": [],
   "source": [
    "train.describe()"
   ]
  },
  {
   "cell_type": "markdown",
   "id": "e2fe8ccf",
   "metadata": {},
   "source": [
    "### Visualization"
   ]
  },
  {
   "cell_type": "code",
   "execution_count": null,
   "id": "4809e242",
   "metadata": {},
   "outputs": [],
   "source": [
    "df = train"
   ]
  },
  {
   "cell_type": "code",
   "execution_count": null,
   "id": "608e2f78",
   "metadata": {},
   "outputs": [],
   "source": [
    "ax = sns.scatterplot(x=\"AreaPerRooms\", y=\"price\", data=df);\n",
    "ax.set_title(\"AreaPerRooms and Price\")\n",
    "ax.set_xlabel(\"AreaPerRooms\");\n",
    "ax.set_ylabel(\"Price\");"
   ]
  },
  {
   "cell_type": "code",
   "execution_count": null,
   "id": "6eb0e00d",
   "metadata": {},
   "outputs": [],
   "source": [
    "plt.scatter(train['area'], df['price']) \n",
    "\n",
    "plt.title(\"Area and Price\")\n",
    "plt.xlabel('Area')\n",
    "plt.ylabel('Price')\n",
    "  \n",
    "plt.show()"
   ]
  },
  {
   "cell_type": "code",
   "execution_count": null,
   "id": "c0cc0902",
   "metadata": {
    "scrolled": false
   },
   "outputs": [],
   "source": [
    "sns.displot(df['price'])"
   ]
  },
  {
   "cell_type": "code",
   "execution_count": null,
   "id": "846358de",
   "metadata": {},
   "outputs": [],
   "source": [
    "print(df['price'].skew())\n",
    "print(df['price'].kurt())"
   ]
  },
  {
   "cell_type": "code",
   "execution_count": null,
   "id": "1ce9e5a5",
   "metadata": {},
   "outputs": [],
   "source": [
    "sns.distplot(df['price'] , fit=norm);\n",
    "\n",
    "(mu, sigma) = norm.fit(df['price'])\n",
    "print( '\\n mu = {:.2f} and sigma = {:.2f}\\n'.format(mu, sigma))\n",
    "\n",
    "plt.legend(['Normal dist. ($\\mu=$ {:.2f} and $\\sigma=$ {:.2f} )'.format(mu, sigma)],\n",
    "            loc='best')\n",
    "plt.ylabel('Frequency')\n",
    "plt.title('SalePrice distribution')\n",
    "\n",
    "#Get also the QQ-plot\n",
    "fig = plt.figure()\n",
    "res = stats.probplot(df['price'], plot=plt)\n",
    "plt.show()"
   ]
  },
  {
   "cell_type": "markdown",
   "id": "e5af03a0",
   "metadata": {},
   "source": [
    "### Correlation"
   ]
  },
  {
   "cell_type": "code",
   "execution_count": null,
   "id": "4f953eaa",
   "metadata": {
    "scrolled": false
   },
   "outputs": [],
   "source": [
    "plt.figure(figsize=(8,8))\n",
    "cor = df[['price', 'Otaq sayı', 'area', 'rel_floor', 'AreaPerRooms']].corr()\n",
    "sns.heatmap(cor, annot=True, cmap=plt.cm.PuBu)\n",
    "plt.show()"
   ]
  },
  {
   "cell_type": "code",
   "execution_count": null,
   "id": "7363b979",
   "metadata": {},
   "outputs": [],
   "source": [
    "cor_target = abs(cor[\"price\"]) # absolute value of the correlation \n",
    "\n",
    "relevant_features = cor_target[cor_target>0.2] # highly correlated features \n",
    "\n",
    "names = [index for index, value in relevant_features.iteritems()] # getting the names of the features \n",
    "\n",
    "names.remove('price') # removing target feature \n",
    "\n",
    "print(names) # printing the features \n",
    "print(len(names))"
   ]
  },
  {
   "cell_type": "markdown",
   "id": "3976018b",
   "metadata": {},
   "source": [
    "#### Building Model"
   ]
  },
  {
   "cell_type": "code",
   "execution_count": null,
   "id": "7b7fdffc",
   "metadata": {},
   "outputs": [],
   "source": [
    "from sklearn.model_selection import train_test_split, GridSearchCV, cross_val_score\n",
    "from sklearn.metrics import mean_squared_error\n",
    "from xgboost import XGBRegressor\n",
    "from lightgbm import LGBMRegressor"
   ]
  },
  {
   "cell_type": "code",
   "execution_count": null,
   "id": "21199b12",
   "metadata": {},
   "outputs": [],
   "source": [
    "print(train.shape, test.shape)"
   ]
  },
  {
   "cell_type": "code",
   "execution_count": null,
   "id": "c543cfc9",
   "metadata": {},
   "outputs": [],
   "source": [
    "drop_list=['title', 'price_currency', 'poster', 'Ünvan', 'description', 'Yeniləndi', 'Mərtəbə', 'Sahə', 'Kupça', 'İpoteka', 'locations', 'seher']\n",
    "train.drop(drop_list,axis=1,inplace=True)\n",
    "test.drop(drop_list,axis=1,inplace=True)"
   ]
  },
  {
   "cell_type": "code",
   "execution_count": null,
   "id": "f3689fee",
   "metadata": {},
   "outputs": [],
   "source": [
    "x=train.copy()\n",
    "x.drop('price',axis=1,inplace=True)\n",
    "y=train['price']\n",
    "X_train,X_test,Y_train,Y_test=train_test_split(x,y,test_size=20000,random_state=171)\n",
    "model = XGBRegressor()\n",
    "paramater = { }\n",
    "clf = GridSearchCV(model, paramater, cv=5)\n",
    "\n",
    "clf.fit(X_train,Y_train)\n",
    "Y_train_pred=clf.predict(X_train)\n",
    "Y_test_pred=clf.predict(X_test)"
   ]
  },
  {
   "cell_type": "code",
   "execution_count": null,
   "id": "000ce335",
   "metadata": {},
   "outputs": [],
   "source": [
    "train_score=clf.score(X_train, Y_train)\n",
    "test_score=clf.score(X_test, Y_test)\n",
    "test_score"
   ]
  },
  {
   "cell_type": "markdown",
   "id": "c1ea0a88",
   "metadata": {},
   "source": [
    "#### Hyperparameter Tuning"
   ]
  },
  {
   "cell_type": "code",
   "execution_count": null,
   "id": "6313f055",
   "metadata": {},
   "outputs": [],
   "source": [
    "def results(Y_train, Y_train_pred, Y_test, Y_test_pred, model, score, X_train, X_test):\n",
    "    print(type(model).__name__)\n",
    "    print('Train Mse: {}'.format(mean_squared_error(Y_train, Y_train_pred)))\n",
    "    print('Train Score: {}'.format(model.score(X_train, Y_train)))\n",
    "    print('Test Mse: {}'.format(mean_squared_error(Y_test, Y_test_pred)))\n",
    "    print('Test Score: {}'.format(model.score(X_test, Y_test)))\n",
    "    print('Mean of Cross Validation Score: {}'.format(np.round(score.mean(),4)))\n",
    "    print('------------------------------------------------------')"
   ]
  },
  {
   "cell_type": "code",
   "execution_count": null,
   "id": "89527f13",
   "metadata": {},
   "outputs": [],
   "source": [
    "def model_tunings(x,y, model_params):\n",
    "    results=[]\n",
    "    X_train, X_test, Y_train, Y_test = train_test_split(x, y, test_size=20000, random_state=171)  \n",
    "    for model_name, mp in model_params.items():\n",
    "        clf=GridSearchCV(mp['model'], mp['params'], cv=5, return_train_score=True)\n",
    "        clf.fit(X_train, Y_train)\n",
    "        Y_train_pred=clf.predict(X_train)\n",
    "        Y_test_pred=clf.predict(X_test)\n",
    "        train_error=mean_squared_error(Y_train, Y_train_pred)\n",
    "        train_score=clf.score(X_train, Y_train)\n",
    "        test_error=mean_squared_error(Y_test, Y_test_pred)\n",
    "        test_score=clf.score(X_test, Y_test)\n",
    "        print(model_name)\n",
    "        print('Train Mse: {}'.format(train_error))\n",
    "        print('Train Score: {}'.format(train_score))\n",
    "        print('Test Mse: {}'.format(test_error))\n",
    "        print('Test Score: {}'.format(test_score))\n",
    "        print('------------------------------------------------------')\n",
    "        results.append({'model': model_name, \n",
    "                        'Train Error': train_error,\n",
    "                        'Train Score': train_score,\n",
    "                        'Test Error': test_error,\n",
    "                        'Test Score': test_score,\n",
    "                        'best_score': clf.best_score_,\n",
    "                        'best_params': clf.best_params_})\n",
    "    return results"
   ]
  },
  {
   "cell_type": "code",
   "execution_count": null,
   "id": "70d2873b",
   "metadata": {},
   "outputs": [],
   "source": [
    "model_parameters={\n",
    "    'LGBMRegressor': {\n",
    "        'model': LGBMRegressor(),\n",
    "        'params': {'learning_rate ': [0.001, 0.0005, 0.01], 'max_depth': [7,10,13,16], \n",
    "                   'n_estimators': list(range(200,1100,100))}},\n",
    "    'XGBRegressor': {\n",
    "        'model' : XGBRegressor(),\n",
    "        'params' : {'reg_alpha': [0.55, .6, 0.51],\n",
    "                    'reg_lambda': [0.5, 0.4, 0.55],\n",
    "                    'max_depth': list(range(7, 20, 2))}\n",
    "    }\n",
    "}"
   ]
  },
  {
   "cell_type": "code",
   "execution_count": null,
   "id": "905f5e73",
   "metadata": {},
   "outputs": [],
   "source": [
    "X = train.drop('price', axis=1)\n",
    "Y = train[['price']]"
   ]
  },
  {
   "cell_type": "code",
   "execution_count": null,
   "id": "28af7211",
   "metadata": {
    "scrolled": false
   },
   "outputs": [],
   "source": [
    "scores = model_tunings(X, Y, model_parameters)"
   ]
  },
  {
   "cell_type": "code",
   "execution_count": null,
   "id": "bbeceeac",
   "metadata": {},
   "outputs": [],
   "source": [
    "res = pd.DataFrame(scores, columns=['model', 'Train Error', 'Train Score', 'Test Error', 'Test Score',\n",
    "       'best_score', 'best_params'])"
   ]
  },
  {
   "cell_type": "code",
   "execution_count": null,
   "id": "f73a25c0",
   "metadata": {},
   "outputs": [],
   "source": [
    "res_sorted=res.sort_values('Test Error', ascending = True)\n",
    "res_sorted"
   ]
  },
  {
   "cell_type": "code",
   "execution_count": null,
   "id": "b78c5149",
   "metadata": {
    "scrolled": false
   },
   "outputs": [],
   "source": [
    "res_sorted.best_params[1]"
   ]
  },
  {
   "cell_type": "markdown",
   "id": "04491508",
   "metadata": {},
   "source": [
    "#### Kaggle Part"
   ]
  },
  {
   "cell_type": "code",
   "execution_count": null,
   "id": "e4019abd",
   "metadata": {},
   "outputs": [],
   "source": [
    "X = train.drop('price', axis=1)\n",
    "Y = train[['price']]\n",
    "X_train,X_test,Y_train,Y_test=train_test_split(X,Y,test_size=20000,random_state=42)\n",
    "print(X.shape, Y.shape)"
   ]
  },
  {
   "cell_type": "code",
   "execution_count": null,
   "id": "57d63b91",
   "metadata": {},
   "outputs": [],
   "source": [
    "test.shape"
   ]
  },
  {
   "cell_type": "code",
   "execution_count": null,
   "id": "86d01db5",
   "metadata": {},
   "outputs": [],
   "source": [
    "print(X_train.shape, Y_train.shape)\n",
    "print(X_test.shape, Y_test.shape)"
   ]
  },
  {
   "cell_type": "code",
   "execution_count": null,
   "id": "3c555947",
   "metadata": {},
   "outputs": [],
   "source": [
    "model = XGBRegressor(max_depth=11, reg_alpha=0.51, reg_lambda=0.55)\n",
    "# model = LGBMRegressor(learning_rate=0.001, max_depth= 10, n_estimators=1000)\n",
    "model.fit(X,Y)\n",
    "tuned_pr=model.predict(test)"
   ]
  },
  {
   "cell_type": "code",
   "execution_count": null,
   "id": "77a10881",
   "metadata": {},
   "outputs": [],
   "source": [
    "test_score= model.score(X_test, Y_test)\n",
    "test_score"
   ]
  },
  {
   "cell_type": "code",
   "execution_count": null,
   "id": "9a203521",
   "metadata": {},
   "outputs": [],
   "source": [
    "tuned_res=[i for i in tuned_pr]"
   ]
  },
  {
   "cell_type": "code",
   "execution_count": null,
   "id": "10261515",
   "metadata": {},
   "outputs": [],
   "source": [
    "submission=pd.DataFrame()\n",
    "submission['_id']=test['_id']\n",
    "submission['price']=tuned_res"
   ]
  },
  {
   "cell_type": "code",
   "execution_count": null,
   "id": "e405433c",
   "metadata": {},
   "outputs": [],
   "source": [
    "submission.to_csv('least.csv',index=False)"
   ]
  }
 ],
 "metadata": {
  "kernelspec": {
   "display_name": "Python 3",
   "language": "python",
   "name": "python3"
  },
  "language_info": {
   "codemirror_mode": {
    "name": "ipython",
    "version": 3
   },
   "file_extension": ".py",
   "mimetype": "text/x-python",
   "name": "python",
   "nbconvert_exporter": "python",
   "pygments_lexer": "ipython3",
   "version": "3.8.10"
  }
 },
 "nbformat": 4,
 "nbformat_minor": 5
}
